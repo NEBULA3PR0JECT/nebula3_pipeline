{
 "cells": [
  {
   "cell_type": "code",
   "execution_count": 1,
   "metadata": {},
   "outputs": [
    {
     "name": "stdout",
     "output_type": "stream",
     "text": [
      "[{'_key': '93415756', '_id': 'changes/93415756', '_rev': '_dgRiI0S---', 'NewPlugin': 1, 'SceneGraph': 56, 'StoryGraph': 56, 'StoryLine': 56, 'SceneDetector': 56, 'ClipScene': 56, 'ESIndex': 56, 'Finalizer': 55, 'Actions': 55, 'Actors': 56, 'movies': 56}]\n",
      "['Movies/114206264', 'Movies/92349432']\n",
      "[{'_key': '93415756', '_id': 'changes/93415756', '_rev': '_dgRiI0S---', 'NewPlugin': 1, 'SceneGraph': 56, 'StoryGraph': 56, 'StoryLine': 56, 'SceneDetector': 56, 'ClipScene': 56, 'ESIndex': 56, 'Finalizer': 55, 'Actions': 55, 'Actors': 56, 'movies': 56}]\n"
     ]
    }
   ],
   "source": [
    "import sys\n",
    "sys.path.append('../')\n",
    "from pipeline.api import PIPELINE_API\n",
    "\n",
    "pipeline = PIPELINE_API()\n",
    "movies = pipeline.get_new_movies()\n",
    "print (movies)\n",
    "versions = pipeline.get_versions()\n",
    "print (versions)\n"
   ]
  }
 ],
 "metadata": {
  "interpreter": {
   "hash": "d4d1e4263499bec80672ea0156c357c1ee493ec2b1c70f0acce89fc37c4a6abe"
  },
  "kernelspec": {
   "display_name": "Python 3.9.7 ('base')",
   "language": "python",
   "name": "python3"
  },
  "language_info": {
   "codemirror_mode": {
    "name": "ipython",
    "version": 3
   },
   "file_extension": ".py",
   "mimetype": "text/x-python",
   "name": "python",
   "nbconvert_exporter": "python",
   "pygments_lexer": "ipython3",
   "version": "3.9.7"
  },
  "orig_nbformat": 4
 },
 "nbformat": 4,
 "nbformat_minor": 2
}
